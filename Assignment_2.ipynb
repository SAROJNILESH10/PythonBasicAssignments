{
 "cells": [
  {
   "cell_type": "markdown",
   "id": "c77b6f3b",
   "metadata": {},
   "source": [
    "                                         Python Basics : Assignment 2"
   ]
  },
  {
   "cell_type": "markdown",
   "id": "e09e96fb",
   "metadata": {},
   "source": [
    "## 1.What are the two values of the Boolean data type? How do you write them?"
   ]
  },
  {
   "cell_type": "markdown",
   "id": "961190d9",
   "metadata": {},
   "source": [
    "The two values of the boolean datatype is true and false. We write them as True and False."
   ]
  },
  {
   "cell_type": "markdown",
   "id": "3bfdf854",
   "metadata": {},
   "source": [
    "## 2. What are the three different types of Boolean operators?"
   ]
  },
  {
   "cell_type": "markdown",
   "id": "117480b3",
   "metadata": {},
   "source": [
    "The three differnt types of boolean operators are AND, OR and NOT."
   ]
  },
  {
   "cell_type": "markdown",
   "id": "0299d85d",
   "metadata": {},
   "source": [
    "## 3. Make a list of each Boolean operator&#39;s truth tables (i.e. every possible combination of Boolean values for the operator and what it evaluate )."
   ]
  },
  {
   "cell_type": "markdown",
   "id": "c127c448",
   "metadata": {},
   "source": [
    "##  Truth table :  AND\n",
    "\n",
    "| A | B | Result\n",
    "- | - | -\n",
    "| 0 | 0 | 0\n",
    "| 0 | 1 | 0\n",
    "| 1 | 0 | 0\n",
    "| 1 | 1 | 1"
   ]
  },
  {
   "cell_type": "markdown",
   "id": "d34bb973",
   "metadata": {},
   "source": [
    "##  Truth table :  OR\n",
    "\n",
    "| A | B | Result\n",
    "- | - | -\n",
    "| 0 | 0 | 0\n",
    "| 0 | 1 | 1\n",
    "| 1 | 0 | 1\n",
    "| 1 | 1 | 1"
   ]
  },
  {
   "cell_type": "markdown",
   "id": "6a7bba2c",
   "metadata": {},
   "source": [
    "##  Truth table :  NOT\n",
    "\n",
    "| A | Result\n",
    "- | - |\n",
    "| 0 | 1 |\n",
    "| 1 | 0 |\n"
   ]
  },
  {
   "cell_type": "markdown",
   "id": "f27c6f0b",
   "metadata": {},
   "source": [
    "#### not operator  \n",
    "The not operator is use unary oeration. Ex. If we write \"a not True\" it will give Flase as result. If we write \"a not Flase\" it will give True as result\n",
    "\n"
   ]
  },
  {
   "cell_type": "code",
   "execution_count": 7,
   "id": "251de173",
   "metadata": {},
   "outputs": [
    {
     "name": "stdout",
     "output_type": "stream",
     "text": [
      "False\n",
      "False\n"
     ]
    }
   ],
   "source": [
    "a  = not True\n",
    "print(a)\n",
    "c = not 1\n",
    "print(c)"
   ]
  },
  {
   "cell_type": "code",
   "execution_count": 8,
   "id": "362857f1",
   "metadata": {},
   "outputs": [
    {
     "name": "stdout",
     "output_type": "stream",
     "text": [
      "True\n",
      "True\n"
     ]
    }
   ],
   "source": [
    "b = not False\n",
    "print(b)\n",
    "d = not 0\n",
    "print(d)"
   ]
  },
  {
   "cell_type": "markdown",
   "id": "5f0b3877",
   "metadata": {},
   "source": [
    "#### and operator"
   ]
  },
  {
   "cell_type": "markdown",
   "id": "acfd727e",
   "metadata": {},
   "source": [
    "The and operator will give result as true when both cobditions are true."
   ]
  },
  {
   "cell_type": "code",
   "execution_count": 10,
   "id": "b5b13e28",
   "metadata": {},
   "outputs": [
    {
     "name": "stdout",
     "output_type": "stream",
     "text": [
      "False\n",
      "False\n",
      "False\n",
      "True\n"
     ]
    }
   ],
   "source": [
    "A = 10\n",
    "B = 20\n",
    "print((A > 30) and (B<15))\n",
    "print((A > 30) and (B<25))\n",
    "print((A > 5) and (B>25))\n",
    "print((A > 5) and (B<25))"
   ]
  },
  {
   "cell_type": "markdown",
   "id": "37569b90",
   "metadata": {},
   "source": [
    "#### or operator"
   ]
  },
  {
   "cell_type": "markdown",
   "id": "750a4f82",
   "metadata": {},
   "source": [
    "The or operator will give as true result when any of two condition is True."
   ]
  },
  {
   "cell_type": "code",
   "execution_count": 13,
   "id": "f9e1c5d9",
   "metadata": {},
   "outputs": [
    {
     "name": "stdout",
     "output_type": "stream",
     "text": [
      "False\n",
      "True\n",
      "True\n",
      "True\n"
     ]
    }
   ],
   "source": [
    "A = 10\n",
    "B = 20\n",
    "print((A > 30) or (B<15))\n",
    "print((A > 30) or (B<25))\n",
    "print((A > 5) or (B>25))\n",
    "print((A > 5) or (B<25))"
   ]
  },
  {
   "cell_type": "markdown",
   "id": "0508eb81",
   "metadata": {},
   "source": [
    "## 4. What are the values of the following expressions?\n",
    "(5 > 4) and (3 == 5),\n",
    "not (5 > 4),\n",
    "(5 > 4) or (3 == 5),\n",
    "not ((5 > 4) or (3 == 5)),\n",
    "(True and True) and (True == False),\n",
    "(not False) or (not True),"
   ]
  },
  {
   "cell_type": "code",
   "execution_count": 14,
   "id": "11baec85",
   "metadata": {},
   "outputs": [
    {
     "data": {
      "text/plain": [
       "False"
      ]
     },
     "execution_count": 14,
     "metadata": {},
     "output_type": "execute_result"
    }
   ],
   "source": [
    "(5 > 4) and (3 == 5)"
   ]
  },
  {
   "cell_type": "code",
   "execution_count": 15,
   "id": "31f17c83",
   "metadata": {},
   "outputs": [
    {
     "data": {
      "text/plain": [
       "False"
      ]
     },
     "execution_count": 15,
     "metadata": {},
     "output_type": "execute_result"
    }
   ],
   "source": [
    " not (5 > 4)"
   ]
  },
  {
   "cell_type": "code",
   "execution_count": 16,
   "id": "4bc3ef0c",
   "metadata": {},
   "outputs": [
    {
     "data": {
      "text/plain": [
       "True"
      ]
     },
     "execution_count": 16,
     "metadata": {},
     "output_type": "execute_result"
    }
   ],
   "source": [
    "(5 > 4) or (3 == 5)"
   ]
  },
  {
   "cell_type": "code",
   "execution_count": 17,
   "id": "1a792ad8",
   "metadata": {},
   "outputs": [
    {
     "data": {
      "text/plain": [
       "False"
      ]
     },
     "execution_count": 17,
     "metadata": {},
     "output_type": "execute_result"
    }
   ],
   "source": [
    "not ((5 > 4) or (3 == 5))"
   ]
  },
  {
   "cell_type": "code",
   "execution_count": 18,
   "id": "304edfe7",
   "metadata": {},
   "outputs": [
    {
     "data": {
      "text/plain": [
       "False"
      ]
     },
     "execution_count": 18,
     "metadata": {},
     "output_type": "execute_result"
    }
   ],
   "source": [
    "(True and True) and (True == False)"
   ]
  },
  {
   "cell_type": "code",
   "execution_count": 19,
   "id": "cbbb278f",
   "metadata": {},
   "outputs": [
    {
     "data": {
      "text/plain": [
       "True"
      ]
     },
     "execution_count": 19,
     "metadata": {},
     "output_type": "execute_result"
    }
   ],
   "source": [
    "(not False) or (not True)"
   ]
  },
  {
   "cell_type": "markdown",
   "id": "e24258b6",
   "metadata": {},
   "source": [
    "## 5. What are the six comparison operators?"
   ]
  },
  {
   "cell_type": "markdown",
   "id": "5f646b1f",
   "metadata": {},
   "source": [
    "###  Comparison Operator : \n",
    "\n",
    "| No. | Symbol | Name\n",
    "- | - | - |\n",
    "| 1. | > | Greater than |\n",
    "| 2. | < | Less Than |\n",
    "| 3. | >= | Greater Than or equal to |\n",
    "| 4. | <= | Less Than or equal to |\n",
    "| 5. | == | equal to |\n",
    "| 6. | != | not equal to |"
   ]
  },
  {
   "cell_type": "markdown",
   "id": "ae430ca7",
   "metadata": {},
   "source": [
    "## 6. How do you tell the difference between the equal to and assignment operators?Describe a condition and when you would use one."
   ]
  },
  {
   "cell_type": "markdown",
   "id": "b652cb9c",
   "metadata": {},
   "source": [
    "The main difference between the equal to and assignment operators is that equal to(==)operator is use to check the equality of two values, where assignment operatos are use to assign new values to a variable.\n",
    "Ex. a == b will check a is equals to b or not, if it is equal it will give result as True.\n",
    "a = b will assign the value of b to a."
   ]
  },
  {
   "cell_type": "code",
   "execution_count": 2,
   "id": "11e09fe7",
   "metadata": {},
   "outputs": [
    {
     "data": {
      "text/plain": [
       "False"
      ]
     },
     "execution_count": 2,
     "metadata": {},
     "output_type": "execute_result"
    }
   ],
   "source": [
    "a = 10\n",
    "b = 50\n",
    "a==b"
   ]
  },
  {
   "cell_type": "code",
   "execution_count": 3,
   "id": "1e42dfbf",
   "metadata": {},
   "outputs": [
    {
     "data": {
      "text/plain": [
       "(80, 80)"
      ]
     },
     "execution_count": 3,
     "metadata": {},
     "output_type": "execute_result"
    }
   ],
   "source": [
    "a = 50\n",
    "b = 80\n",
    "a = b\n",
    "a,b"
   ]
  },
  {
   "cell_type": "markdown",
   "id": "7a4226e5",
   "metadata": {},
   "source": [
    "#### Assignment Opeartors :"
   ]
  },
  {
   "cell_type": "code",
   "execution_count": 19,
   "id": "6d2c9cf2",
   "metadata": {},
   "outputs": [
    {
     "data": {
      "text/plain": [
       "(10, 1)"
      ]
     },
     "execution_count": 19,
     "metadata": {},
     "output_type": "execute_result"
    }
   ],
   "source": [
    "a = 8\n",
    "b = 2\n",
    "a = a + 2\n",
    "b -=1\n",
    "a,b"
   ]
  },
  {
   "cell_type": "markdown",
   "id": "a46a71b2",
   "metadata": {},
   "source": [
    "## 7. Identify the three blocks in this code:"
   ]
  },
  {
   "cell_type": "code",
   "execution_count": 21,
   "id": "ea8e59a0",
   "metadata": {},
   "outputs": [
    {
     "name": "stdout",
     "output_type": "stream",
     "text": [
      "bacon\n",
      "ham\n",
      "spam\n",
      "spam\n"
     ]
    }
   ],
   "source": [
    "spam = 0\n",
    "if spam == 10:     # First block : It will check if spam is equals to 10 or not, if spam is equals to 10 it will print eggs\n",
    "    print(\"eggs\")\n",
    "if spam > 5:       # Second block : It will check if spam is greater than 5 or not, if spam is greater than 10 it will print bacon\n",
    "    print(\"bacon\")\n",
    "else:              # Third block : if spam is not greater than 5 it will print bacon, ham, spam, spam\n",
    "    print(\"bacon\")\n",
    "    print(\"ham\")\n",
    "    print(\"spam\")\n",
    "    print(\"spam\")"
   ]
  },
  {
   "cell_type": "markdown",
   "id": "1d7e66ab",
   "metadata": {},
   "source": [
    "## 8. Write code that prints Hello if 1 is stored in spam, prints Howdy if 2 is stored in spam, and prints Greetings! if anything else is stored in spam."
   ]
  },
  {
   "cell_type": "code",
   "execution_count": 24,
   "id": "b788e4e6",
   "metadata": {},
   "outputs": [
    {
     "name": "stdout",
     "output_type": "stream",
     "text": [
      "Please enter your value : 6\n",
      "Greetings\n"
     ]
    }
   ],
   "source": [
    "spam = int(input('Please enter your value : '))\n",
    "if (spam == 1):\n",
    "    print('Hello')\n",
    "elif (spam == 2):\n",
    "    print('Howdy')\n",
    "else:\n",
    "    print('Greetings')"
   ]
  },
  {
   "cell_type": "markdown",
   "id": "b92b270d",
   "metadata": {},
   "source": [
    "## 9.If your programme is stuck in an endless loop, what keys you’ll press?"
   ]
  },
  {
   "cell_type": "code",
   "execution_count": 28,
   "id": "258a26c9",
   "metadata": {},
   "outputs": [
    {
     "data": {
      "text/plain": [
       "'a = 1\\nwhile a>0:\\n    print(\"Endless loop\")'"
      ]
     },
     "execution_count": 28,
     "metadata": {},
     "output_type": "execute_result"
    }
   ],
   "source": [
    "\"\"\"a = 1\n",
    "while a>0:\n",
    "    print(\"Endless loop\")\"\"\""
   ]
  },
  {
   "cell_type": "markdown",
   "id": "cf9b0488",
   "metadata": {},
   "source": [
    "If our programme is stuck in an endless loop, we have key press interrupt key or we have stop the kernel otherwise we can restart the kernel."
   ]
  },
  {
   "cell_type": "markdown",
   "id": "8eb9d5fe",
   "metadata": {},
   "source": [
    "## 10. How can you tell the difference between break and continue?"
   ]
  },
  {
   "cell_type": "markdown",
   "id": "be7953d6",
   "metadata": {},
   "source": [
    "Break : It terminates the loop immediately and transfers execution to the new statement after the loop."
   ]
  },
  {
   "cell_type": "markdown",
   "id": "22e7331c",
   "metadata": {},
   "source": [
    "Continue : The continue statement causes the loop to skip its current execution at some point and move on to the next iteration."
   ]
  },
  {
   "cell_type": "markdown",
   "id": "13fed315",
   "metadata": {},
   "source": [
    "##### Break :"
   ]
  },
  {
   "cell_type": "code",
   "execution_count": 31,
   "id": "e0443c0b",
   "metadata": {},
   "outputs": [
    {
     "name": "stdout",
     "output_type": "stream",
     "text": [
      "1 2 3 4 5 "
     ]
    }
   ],
   "source": [
    "a = 5\n",
    "for i in range(1,10):\n",
    "    print(i, end = \" \")\n",
    "    if i == a:\n",
    "        break"
   ]
  },
  {
   "cell_type": "markdown",
   "id": "4bb42f28",
   "metadata": {},
   "source": [
    "##### Continue :"
   ]
  },
  {
   "cell_type": "code",
   "execution_count": 40,
   "id": "ae1945b3",
   "metadata": {},
   "outputs": [
    {
     "name": "stdout",
     "output_type": "stream",
     "text": [
      "1 2 3 4 6 7 8 9 "
     ]
    }
   ],
   "source": [
    "a = 5\n",
    "for i in range(1, 10):\n",
    "    if i == a:\n",
    "        continue\n",
    "    print(i, end = \" \")"
   ]
  },
  {
   "cell_type": "markdown",
   "id": "dc83172f",
   "metadata": {},
   "source": [
    "The main difference between continue and break statement is that break statement will terminates the loop where continue statement will skip it's current execution."
   ]
  },
  {
   "cell_type": "markdown",
   "id": "14d4d24d",
   "metadata": {},
   "source": [
    " ## 11. In a for loop, what is the difference between range(10), range(0, 10), and range(0, 10, 1)?"
   ]
  },
  {
   "cell_type": "markdown",
   "id": "6cfdfacf",
   "metadata": {},
   "source": [
    "i) range(10):"
   ]
  },
  {
   "cell_type": "code",
   "execution_count": 41,
   "id": "aab73b90",
   "metadata": {},
   "outputs": [
    {
     "name": "stdout",
     "output_type": "stream",
     "text": [
      "0 1 2 3 4 5 6 7 8 9 "
     ]
    }
   ],
   "source": [
    "for i in range(10):\n",
    "    print(i, end = \" \")"
   ]
  },
  {
   "cell_type": "markdown",
   "id": "69f7f28b",
   "metadata": {},
   "source": [
    "ii) range(0,10):"
   ]
  },
  {
   "cell_type": "code",
   "execution_count": 43,
   "id": "b3a44309",
   "metadata": {},
   "outputs": [
    {
     "name": "stdout",
     "output_type": "stream",
     "text": [
      "0 1 2 3 4 5 6 7 8 9 "
     ]
    }
   ],
   "source": [
    "for i in range(0,10):\n",
    "    print(i, end = \" \")"
   ]
  },
  {
   "cell_type": "markdown",
   "id": "e5c81557",
   "metadata": {},
   "source": [
    "iii) range(0,10,1):"
   ]
  },
  {
   "cell_type": "code",
   "execution_count": 44,
   "id": "a8130112",
   "metadata": {},
   "outputs": [
    {
     "name": "stdout",
     "output_type": "stream",
     "text": [
      "0 1 2 3 4 5 6 7 8 9 "
     ]
    }
   ],
   "source": [
    "for i in range(0,10,1):\n",
    "    print(i, end = \" \")"
   ]
  },
  {
   "cell_type": "markdown",
   "id": "a7c6e033",
   "metadata": {},
   "source": [
    "There is no differnce between range(10), range(0, 10), and range(0, 10, 1) because we know the syntax of range function: range(lowerbound, upper bound, step) when we skip lowerbound value it will start from 0, and when we skip step value it will consider step as 1. But upperbound is mandatory."
   ]
  },
  {
   "cell_type": "markdown",
   "id": "42ace35d",
   "metadata": {},
   "source": [
    "## 12.Write a short program that prints the numbers 1 to 10 using a for loop. Then write an equivalent program that prints the numbers 1 to 10 using a while loop."
   ]
  },
  {
   "cell_type": "markdown",
   "id": "fb3213f1",
   "metadata": {},
   "source": [
    "##### for loop :"
   ]
  },
  {
   "cell_type": "code",
   "execution_count": 47,
   "id": "849e6428",
   "metadata": {},
   "outputs": [
    {
     "name": "stdout",
     "output_type": "stream",
     "text": [
      "1 2 3 4 5 6 7 8 9 10 "
     ]
    }
   ],
   "source": [
    "for i in range(1,11):\n",
    "    print(i, end = \" \")"
   ]
  },
  {
   "cell_type": "markdown",
   "id": "798ea443",
   "metadata": {},
   "source": [
    "##### while loop :"
   ]
  },
  {
   "cell_type": "code",
   "execution_count": 50,
   "id": "6c6c4fc2",
   "metadata": {},
   "outputs": [
    {
     "name": "stdout",
     "output_type": "stream",
     "text": [
      "1 2 3 4 5 6 7 8 9 10 "
     ]
    }
   ],
   "source": [
    "i = 1\n",
    "while i<11:\n",
    "    print(i, end= \" \")\n",
    "    i +=1"
   ]
  },
  {
   "cell_type": "markdown",
   "id": "c22c28c1",
   "metadata": {},
   "source": [
    "## 13. If you had a function named bacon() inside a module named spam, how would you call it after importing spam?"
   ]
  },
  {
   "cell_type": "markdown",
   "id": "99817f5c",
   "metadata": {},
   "source": [
    "This function can be called with spam.bacon()."
   ]
  }
 ],
 "metadata": {
  "kernelspec": {
   "display_name": "Python 3 (ipykernel)",
   "language": "python",
   "name": "python3"
  },
  "language_info": {
   "codemirror_mode": {
    "name": "ipython",
    "version": 3
   },
   "file_extension": ".py",
   "mimetype": "text/x-python",
   "name": "python",
   "nbconvert_exporter": "python",
   "pygments_lexer": "ipython3",
   "version": "3.9.13"
  }
 },
 "nbformat": 4,
 "nbformat_minor": 5
}
