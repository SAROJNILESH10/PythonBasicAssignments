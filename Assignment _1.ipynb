{
 "cells": [
  {
   "cell_type": "markdown",
   "id": "507b9cf7",
   "metadata": {},
   "source": [
    "                                       Python Basics : Assignment 1"
   ]
  },
  {
   "cell_type": "markdown",
   "id": "bf661f27",
   "metadata": {},
   "source": [
    "# 1. In the below elements which of them are values or an expression?\n",
    "##### eg:- values can be integer or string and expressions will be mathematical operators. ( * , 'hello', -87.8, -, /, +, 6 )"
   ]
  },
  {
   "cell_type": "markdown",
   "id": "7ee1de14",
   "metadata": {},
   "source": [
    "A. ( * ) is an mathematical expression\n",
    "\n",
    "B. ('hello') is a string value\n",
    "\n",
    "C. (-87.8) is float value\n",
    "\n",
    "D. ( - ) is a mathematical expression\n",
    "\n",
    "E. ( / ) is a mathematical expression\n",
    "\n",
    "F. ( + ) is a mathematical extression\n",
    "\n",
    "H. ( 6 ) is a integer value"
   ]
  },
  {
   "cell_type": "markdown",
   "id": "e938d30c",
   "metadata": {},
   "source": [
    "# 2. What is the difference between string and variable?\n"
   ]
  },
  {
   "cell_type": "markdown",
   "id": "edd1547f",
   "metadata": {},
   "source": [
    "The difference between string and variable is that string is a datatype and variable are container for storing data value."
   ]
  },
  {
   "cell_type": "markdown",
   "id": "9842b84d",
   "metadata": {},
   "source": [
    "Ex. a = \"Hello World\", \n",
    " a is a variable of string datatype. "
   ]
  },
  {
   "cell_type": "code",
   "execution_count": 1,
   "id": "36b65410",
   "metadata": {},
   "outputs": [
    {
     "data": {
      "text/plain": [
       "str"
      ]
     },
     "execution_count": 1,
     "metadata": {},
     "output_type": "execute_result"
    }
   ],
   "source": [
    "a = \"Hello! world\"  \n",
    "# a is a variable of string datatype\n",
    "type(a)"
   ]
  },
  {
   "cell_type": "markdown",
   "id": "5814b46c",
   "metadata": {},
   "source": [
    "# 3. Describe three different data types."
   ]
  },
  {
   "cell_type": "markdown",
   "id": "70145575",
   "metadata": {},
   "source": [
    "The three different data types are :"
   ]
  },
  {
   "cell_type": "markdown",
   "id": "d7a7f910",
   "metadata": {},
   "source": [
    " i) String : It is a datatype which is used to store any character.String can simply assign by putting the word between single or double-quotes. The string type in Python is called str. Ex. str1 = \"Python\""
   ]
  },
  {
   "cell_type": "code",
   "execution_count": 5,
   "id": "b89ecd92",
   "metadata": {},
   "outputs": [
    {
     "data": {
      "text/plain": [
       "str"
      ]
     },
     "execution_count": 5,
     "metadata": {},
     "output_type": "execute_result"
    }
   ],
   "source": [
    "str1 = \"Python\"\n",
    "type(str1)"
   ]
  },
  {
   "cell_type": "markdown",
   "id": "b309c876",
   "metadata": {},
   "source": [
    "ii) Integer : It is a datatype which is used to store integer values. The string type in Python is called int. Ex. a = 50"
   ]
  },
  {
   "cell_type": "code",
   "execution_count": 6,
   "id": "f2bd795c",
   "metadata": {},
   "outputs": [
    {
     "data": {
      "text/plain": [
       "int"
      ]
     },
     "execution_count": 6,
     "metadata": {},
     "output_type": "execute_result"
    }
   ],
   "source": [
    "int1 = 50\n",
    "type(int1)"
   ]
  },
  {
   "cell_type": "markdown",
   "id": "fe663630",
   "metadata": {},
   "source": [
    "iii) Boolean : It is a datatype that have one of two values, True or False. Ex. a = True\n"
   ]
  },
  {
   "cell_type": "code",
   "execution_count": 7,
   "id": "571354da",
   "metadata": {},
   "outputs": [
    {
     "data": {
      "text/plain": [
       "bool"
      ]
     },
     "execution_count": 7,
     "metadata": {},
     "output_type": "execute_result"
    }
   ],
   "source": [
    "bol1 = True\n",
    "type(bol1)"
   ]
  },
  {
   "cell_type": "markdown",
   "id": "f7e4294c",
   "metadata": {},
   "source": [
    "# 4.What is an expression made up of? What do all expressions do?"
   ]
  },
  {
   "cell_type": "markdown",
   "id": "65638db1",
   "metadata": {},
   "source": [
    "An expression is a made up of mathematical operators and operands.\n",
    "\n",
    "Ex. a = 10 + 2. The expressions produces some other value."
   ]
  },
  {
   "cell_type": "markdown",
   "id": "c5875b81",
   "metadata": {},
   "source": [
    "# 5. This assignment statements, like spam = 10. What is the difference between an expression and a statement?"
   ]
  },
  {
   "cell_type": "markdown",
   "id": "febfa176",
   "metadata": {},
   "source": [
    "An expression in Python is very different from statements in Python. A statement is not evaluated for some results. A statement is used for creating variables or for displaying values."
   ]
  },
  {
   "cell_type": "markdown",
   "id": "587ab396",
   "metadata": {},
   "source": [
    "# 6. After running the following code, what does the variable bacon contain?\n",
    "bacon = 22 \n",
    "\n",
    "bacon + 1"
   ]
  },
  {
   "cell_type": "code",
   "execution_count": 13,
   "id": "2cf7fb2b",
   "metadata": {},
   "outputs": [
    {
     "name": "stdout",
     "output_type": "stream",
     "text": [
      "22\n"
     ]
    }
   ],
   "source": [
    "bacon = 22\n",
    "bacon + 1\n",
    "print(bacon)\n",
    "\n",
    "# After running this code we get bacon an 22 because bacon + 1 statement will not effect the original value of bacon"
   ]
  },
  {
   "cell_type": "markdown",
   "id": "9b01066a",
   "metadata": {},
   "source": [
    "# 7. What should the values of the following two terms be?\n",
    "i) 'spam' + 'spamspam'\n",
    "\n",
    "ii) 'spam' * 3"
   ]
  },
  {
   "cell_type": "code",
   "execution_count": 10,
   "id": "b0f052ce",
   "metadata": {},
   "outputs": [
    {
     "data": {
      "text/plain": [
       "'spamspamspam'"
      ]
     },
     "execution_count": 10,
     "metadata": {},
     "output_type": "execute_result"
    }
   ],
   "source": [
    "'spam' + 'spamspam'"
   ]
  },
  {
   "cell_type": "code",
   "execution_count": 11,
   "id": "fd400f65",
   "metadata": {},
   "outputs": [
    {
     "data": {
      "text/plain": [
       "'spamspamspam'"
      ]
     },
     "execution_count": 11,
     "metadata": {},
     "output_type": "execute_result"
    }
   ],
   "source": [
    "\"spam\" * 3"
   ]
  },
  {
   "cell_type": "markdown",
   "id": "a4309116",
   "metadata": {},
   "source": [
    "# 8. Why is eggs a valid variable name while 100 is invalid?"
   ]
  },
  {
   "cell_type": "markdown",
   "id": "d5dffb91",
   "metadata": {},
   "source": [
    "Egg is valid variable name because it's name is consists of alphbatic character"
   ]
  },
  {
   "cell_type": "markdown",
   "id": "cdbc2b97",
   "metadata": {},
   "source": [
    "100 is invalid name because it's name only consists of numeric character. Variable name should always starts with a alphabatic character or _."
   ]
  },
  {
   "cell_type": "code",
   "execution_count": 7,
   "id": "a0204a82",
   "metadata": {},
   "outputs": [],
   "source": [
    "egg = 10        # Valid variable name\n",
    "100 = '100'     # Invalid variable name\n",
    "egg_100 = 200   # Valid variable name\n",
    "_100 = 300      # Valid variable name"
   ]
  },
  {
   "cell_type": "markdown",
   "id": "a66bff2b",
   "metadata": {},
   "source": [
    "# 9. What three functions can be used to get the integer, floating-point number, or stringversion of a value?"
   ]
  },
  {
   "cell_type": "markdown",
   "id": "5db4fef4",
   "metadata": {},
   "source": [
    "The three functions that can be used to get the integer, floating-point number, or string version of a value are:"
   ]
  },
  {
   "cell_type": "markdown",
   "id": "1f3d518b",
   "metadata": {},
   "source": [
    "str(), int(), float()"
   ]
  },
  {
   "cell_type": "code",
   "execution_count": 11,
   "id": "bd8db5e6",
   "metadata": {},
   "outputs": [
    {
     "name": "stdout",
     "output_type": "stream",
     "text": [
      "String :  10\n",
      "Integer :  10\n",
      "Float :  10.0\n"
     ]
    }
   ],
   "source": [
    "var1= 10\n",
    "print('String : ',str(var1))\n",
    "print('Integer : ',int(var1))\n",
    "print('Float : ',float(var1))"
   ]
  },
  {
   "cell_type": "markdown",
   "id": "5415116f",
   "metadata": {},
   "source": [
    "# 10. Why does this expression cause an error? How can you fix it?\n",
    "\"I have eaten\" + 99 + 'burritos'"
   ]
  },
  {
   "cell_type": "markdown",
   "id": "3f28148b",
   "metadata": {},
   "source": [
    "The expression causes an error because here 99 in integer datatype value and other two are string datatype value. We can't perform concanate opreation with integer datatype."
   ]
  },
  {
   "cell_type": "markdown",
   "id": "53f79cd3",
   "metadata": {},
   "source": [
    "We can fix this error by changing the datatype of 99 or by putting putting 99 in single or double quote to make it string like \"99\""
   ]
  },
  {
   "cell_type": "code",
   "execution_count": 12,
   "id": "1ce552ad",
   "metadata": {},
   "outputs": [
    {
     "data": {
      "text/plain": [
       "'I have eaten99burritos'"
      ]
     },
     "execution_count": 12,
     "metadata": {},
     "output_type": "execute_result"
    }
   ],
   "source": [
    "\"I have eaten\" + str(99) + 'burritos'"
   ]
  },
  {
   "cell_type": "code",
   "execution_count": 14,
   "id": "bfb2bccd",
   "metadata": {},
   "outputs": [
    {
     "data": {
      "text/plain": [
       "'I have eaten 99 burritos'"
      ]
     },
     "execution_count": 14,
     "metadata": {},
     "output_type": "execute_result"
    }
   ],
   "source": [
    "\"I have eaten\" + ' 99 ' + 'burritos'"
   ]
  }
 ],
 "metadata": {
  "kernelspec": {
   "display_name": "Python 3 (ipykernel)",
   "language": "python",
   "name": "python3"
  },
  "language_info": {
   "codemirror_mode": {
    "name": "ipython",
    "version": 3
   },
   "file_extension": ".py",
   "mimetype": "text/x-python",
   "name": "python",
   "nbconvert_exporter": "python",
   "pygments_lexer": "ipython3",
   "version": "3.9.13"
  }
 },
 "nbformat": 4,
 "nbformat_minor": 5
}
